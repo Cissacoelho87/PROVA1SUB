{
 "cells": [
  {
   "cell_type": "markdown",
   "id": "51f340bd-f8fc-49ca-881e-c8b7d066c713",
   "metadata": {},
   "source": [
    "Exercício 1"
   ]
  },
  {
   "cell_type": "code",
   "execution_count": 16,
   "id": "457a4036-48f1-4f6d-a5af-56cc0a6dbce5",
   "metadata": {},
   "outputs": [
    {
     "name": "stdin",
     "output_type": "stream",
     "text": [
      "Digite um número inteiro positivo:  10\n"
     ]
    },
    {
     "name": "stdout",
     "output_type": "stream",
     "text": [
      "A soma dos números pares de 0 a 10: é 30.\n"
     ]
    }
   ],
   "source": [
    "n = int(input(\"Digite um número inteiro positivo: \"))\n",
    "soma = 0\n",
    "for i in range(0, n + 1):\n",
    "    if i % 2 == 0:\n",
    "        soma += i\n",
    "print(f\"A soma dos números pares de 0 a {n}: é {soma}.\")"
   ]
  },
  {
   "cell_type": "markdown",
   "id": "485ae674-92b5-4c62-9bb3-0b5f82f713a1",
   "metadata": {},
   "source": [
    "Exrecício 2"
   ]
  },
  {
   "cell_type": "code",
   "execution_count": 3,
   "id": "52b0aa9c-e9d4-4927-88ca-a3f55d998a1b",
   "metadata": {},
   "outputs": [
    {
     "name": "stdin",
     "output_type": "stream",
     "text": [
      "Digite o peso em kg: 68\n",
      "Digite a altura em metros: 1.65\n"
     ]
    },
    {
     "name": "stdout",
     "output_type": "stream",
     "text": [
      "Seu IMC é: 24.98\n",
      "Obesidade\n"
     ]
    }
   ],
   "source": [
    "peso = float(input(\"Digite o peso em kg:\"))\n",
    "altura = float(input(\"Digite a altura em metros:\"))\n",
    "IMC = peso / altura ** 2\n",
    "print(f\"Seu IMC é: {IMC:.2f}\")\n",
    "\n",
    "if IMC < 18.5:\n",
    "    print(\"Abaixo do peso\")\n",
    "elif 18.5 <= IMC <= 24.9:\n",
    "    print(\"Peso mormal\")\n",
    "elif 25.0 <= IMC <= 29.9:\n",
    "    print(\"sobrepeso\")\n",
    "else:\n",
    "    print(\"Obesidade\")"
   ]
  },
  {
   "cell_type": "markdown",
   "id": "34d51022-5833-4248-9f23-02314fd69dd6",
   "metadata": {},
   "source": [
    "Exercício 3"
   ]
  },
  {
   "cell_type": "code",
   "execution_count": 1,
   "id": "26092964-4ba2-4c57-8e0c-b837030d5bb2",
   "metadata": {},
   "outputs": [
    {
     "name": "stdout",
     "output_type": "stream",
     "text": [
      "Jogador 1: 4, Jogador 2: 3. Resultado: Jogador 1!\n"
     ]
    }
   ],
   "source": [
    "def jogo_dados():\n",
    "    dado1 = 1 + hash(\"dado1\") % 6\n",
    "    dado2 = 1 + hash(\"dado2\") % 4\n",
    "\n",
    "    vencedor = \"Jogador 1\" if dado1 > dado2 else \"Jogador 2\" if dado2 > dado1 else \"Empate\"\n",
    "\n",
    "    return f\"Jogador 1: {dado1}, Jogador 2: {dado2}. Resultado: {vencedor}!\"\n",
    "\n",
    "print(jogo_dados())"
   ]
  },
  {
   "cell_type": "code",
   "execution_count": null,
   "id": "44ba49c6-d426-4d63-8842-444a14c2a467",
   "metadata": {},
   "outputs": [],
   "source": []
  }
 ],
 "metadata": {
  "kernelspec": {
   "display_name": "Python [conda env:base] *",
   "language": "python",
   "name": "conda-base-py"
  },
  "language_info": {
   "codemirror_mode": {
    "name": "ipython",
    "version": 3
   },
   "file_extension": ".py",
   "mimetype": "text/x-python",
   "name": "python",
   "nbconvert_exporter": "python",
   "pygments_lexer": "ipython3",
   "version": "3.12.7"
  }
 },
 "nbformat": 4,
 "nbformat_minor": 5
}
